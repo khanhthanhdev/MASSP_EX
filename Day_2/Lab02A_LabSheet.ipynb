{
 "cells": [
  {
   "cell_type": "markdown",
   "metadata": {
    "id": "3ZtUwxE8ckNF"
   },
   "source": [
    "<div class=\"alert alert-block alert-warning\">\n",
    "<h1><span style=\"color:green\"> Under-Graduate Research Internship Program (UGRIP) - 2024 <br> Lab 02 - Part A </span><h1>\n",
    "\n",
    "<h2><span style=\"color:green\"> Introduction to Pytorch and Neural Networks\n",
    "</div>"
   ]
  },
  {
   "cell_type": "markdown",
   "metadata": {
    "id": "_hkyYJwRfD-c"
   },
   "source": [
    "## 1. Introduction"
   ]
  },
  {
   "cell_type": "markdown",
   "metadata": {
    "id": "fyCv1vUGfebH"
   },
   "source": [
    "This notebook aims to provide an introduction to PyTorch basics and help you get started with writing your own neural networks. PyTorch is an open-source machine learning framework that allows you to build and optimize neural networks efficiently.\n",
    "\n",
    "PyTorch is well-established, has a large developer community (developed by Facebook), is highly flexible, and is widely used in research. Still, you have other options like TensorFlow (developed by Google), which is often recognized as a production-grade deep learning library."
   ]
  },
  {
   "cell_type": "markdown",
   "metadata": {
    "id": "csHJwPUBgCbY"
   },
   "source": [
    "Before starting make sure the following libraries are installed in the conda environment you created yesterday:\n",
    "\n",
    "*   ipywidgets\n",
    "*   numpy\n",
    "*   matplotlib\n",
    "*   seaborn\n",
    "*   tqdm\n",
    "*   torch\n",
    "\n"
   ]
  },
  {
   "cell_type": "code",
   "execution_count": null,
   "metadata": {
    "colab": {
     "base_uri": "https://localhost:8080/"
    },
    "executionInfo": {
     "elapsed": 920,
     "status": "ok",
     "timestamp": 1717012905807,
     "user": {
      "displayName": "ivo gollini",
      "userId": "07972790533589124204"
     },
     "user_tz": -240
    },
    "id": "ctjMpDIdckNI",
    "outputId": "2eb5e10a-48b0-40b4-f9ac-a185e8ed97ef"
   },
   "outputs": [],
   "source": [
    "## Standard libraries\n",
    "\n",
    "import os\n",
    "import math\n",
    "import numpy as np\n",
    "import time\n",
    "\n",
    "## Imports for plotting\n",
    "\n",
    "import matplotlib.pyplot as plt\n",
    "from matplotlib.colors import to_rgba\n",
    "import seaborn as sns\n",
    "sns.set()\n",
    "\n",
    "## Progress bar\n",
    "from tqdm.notebook import tqdm\n",
    "\n",
    "%matplotlib inline\n",
    "%config InlineBackend.figure_formats = ['svg', 'pdf']"
   ]
  },
  {
   "cell_type": "markdown",
   "metadata": {
    "id": "5JpOVztockNK"
   },
   "source": [
    "## 2. PyTorch Basics\n",
    "\n",
    "We will start with reviewing the very basic concepts of PyTorch. As a first step, let's import the library and check its version,"
   ]
  },
  {
   "cell_type": "code",
   "execution_count": null,
   "metadata": {
    "colab": {
     "base_uri": "https://localhost:8080/"
    },
    "executionInfo": {
     "elapsed": 2474,
     "status": "ok",
     "timestamp": 1717012908280,
     "user": {
      "displayName": "ivo gollini",
      "userId": "07972790533589124204"
     },
     "user_tz": -240
    },
    "id": "YGLGlsGAckNK",
    "outputId": "9016f508-c713-4309-d9a8-0ea7edd998f1"
   },
   "outputs": [],
   "source": [
    "import torch\n",
    "print(\"Using torch\", torch.__version__)"
   ]
  },
  {
   "cell_type": "markdown",
   "metadata": {
    "id": "2xkIMYYgiB8M"
   },
   "source": [
    "**IMPORTANT NOTE**\n",
    "\n",
    "Tracking versions of libraries in the conda environment is important for:\n",
    "\n",
    "* Reproducibility: Ensure others can **replicate your results**. Different versions might introduce changes that affect the outcomes of experiments or analyses.\n",
    "\n",
    "* Stability: Using specific versions helps **maintain stability in your environment**. Versions changes can introduce bugs or incompatibilities that disrupt your workflow.\n",
    "\n",
    "* Debugging: When issues arise, **knowing the exact versions of libraries used can help in troubleshooting**. It makes it easier to identify whether a problem is related to a specific library change.\n",
    "\n",
    "* Collaboration: When working in a team, having **a consistent environment ensures that everyone is using the same setup**. Avoid the \"it works on my machine\" problem."
   ]
  },
  {
   "cell_type": "markdown",
   "metadata": {
    "id": "itMmOFaQckNK"
   },
   "source": [
    "PyTorch provides functions that are stochastic, like generating random numbers. Another very good practice is to setup your code to be reproducible with the exact same random numbers. **Seet a seed.**"
   ]
  },
  {
   "cell_type": "code",
   "execution_count": null,
   "metadata": {
    "colab": {
     "base_uri": "https://localhost:8080/"
    },
    "executionInfo": {
     "elapsed": 30,
     "status": "ok",
     "timestamp": 1717012908280,
     "user": {
      "displayName": "ivo gollini",
      "userId": "07972790533589124204"
     },
     "user_tz": -240
    },
    "id": "qk4lSje3ckNL",
    "outputId": "46a872f8-1b26-45fe-ac49-70a9ca30009e"
   },
   "outputs": [],
   "source": [
    "torch.manual_seed(42) # Setting the seed"
   ]
  },
  {
   "cell_type": "markdown",
   "metadata": {
    "id": "1i-o1ngdckNL"
   },
   "source": [
    "### Tensors\n",
    "\n",
    "Tensors in PyTorch are similar to Numpy arrays (N-dimmensional arrays) but they also contain information about the Gradient. Also the added benefit of GPU acceleration (which we'll discuss later). You can easily convert most tensors to Numpy arrays and vice versa.\n",
    "\n",
    "### Initialization\n",
    "Let's begin by exploring different methods of creating a tensor. One of the simplest methods is calling torch.Tensor and passing the desired shape as an input argument:"
   ]
  },
  {
   "cell_type": "code",
   "execution_count": null,
   "metadata": {
    "colab": {
     "base_uri": "https://localhost:8080/"
    },
    "executionInfo": {
     "elapsed": 26,
     "status": "ok",
     "timestamp": 1717012908280,
     "user": {
      "displayName": "ivo gollini",
      "userId": "07972790533589124204"
     },
     "user_tz": -240
    },
    "id": "BS3ZsljBckNL",
    "outputId": "b7aa7e34-dde0-4b10-db57-2d885ba776c7"
   },
   "outputs": [],
   "source": [
    "x = torch.Tensor(2, 3, 4)\n",
    "print(x)"
   ]
  },
  {
   "cell_type": "markdown",
   "metadata": {
    "id": "grZT7v6WckNL"
   },
   "source": [
    "The function `torch.Tensor` allocates memory for the desired tensor, but reuses any values that have already been in the memory. To directly assign values to the tensor during initialization, there are many alternatives including:\n",
    "\n",
    "* `torch.zeros`: Creates a tensor filled with zeros\n",
    "* `torch.ones`: Creates a tensor filled with ones\n",
    "* `torch.rand`: Creates a tensor with random values uniformly sampled between 0 and 1\n",
    "* `torch.randn`: Creates a tensor with random values sampled from a normal distribution with mean 0 and variance 1\n",
    "* `torch.arange`: Creates a tensor containing the values $N,N+1,N+2,...,M$\n",
    "* `torch.Tensor` (input list): Creates a tensor from the list elements you provide"
   ]
  },
  {
   "cell_type": "code",
   "execution_count": null,
   "metadata": {
    "colab": {
     "base_uri": "https://localhost:8080/"
    },
    "executionInfo": {
     "elapsed": 24,
     "status": "ok",
     "timestamp": 1717012908280,
     "user": {
      "displayName": "ivo gollini",
      "userId": "07972790533589124204"
     },
     "user_tz": -240
    },
    "id": "6r9ZMUYickNL",
    "outputId": "f56090c1-1f72-4f2c-e797-905c80cd052b"
   },
   "outputs": [],
   "source": [
    "# Create a tensor from a (nested) list\n",
    "x = torch.Tensor([[1, 2], [3, 4]])\n",
    "print(x)"
   ]
  },
  {
   "cell_type": "code",
   "execution_count": null,
   "metadata": {
    "colab": {
     "base_uri": "https://localhost:8080/"
    },
    "executionInfo": {
     "elapsed": 23,
     "status": "ok",
     "timestamp": 1717012908280,
     "user": {
      "displayName": "ivo gollini",
      "userId": "07972790533589124204"
     },
     "user_tz": -240
    },
    "id": "c4G9_t8WckNM",
    "outputId": "ab66d415-593c-46a9-e22b-22f3411e52dc"
   },
   "outputs": [],
   "source": [
    "# Create a tensor with random values between 0 and 1 with the shape [2, 3, 4]\n",
    "x = torch.rand(2, 3, 4)\n",
    "print(x)"
   ]
  },
  {
   "cell_type": "markdown",
   "metadata": {
    "id": "UDAIrNfPckNM"
   },
   "source": [
    "You can obtain the shape of a tensor in the same way as in numpy (`x.shape`), or using the `.size` method:"
   ]
  },
  {
   "cell_type": "code",
   "execution_count": null,
   "metadata": {
    "colab": {
     "base_uri": "https://localhost:8080/"
    },
    "executionInfo": {
     "elapsed": 21,
     "status": "ok",
     "timestamp": 1717012908280,
     "user": {
      "displayName": "ivo gollini",
      "userId": "07972790533589124204"
     },
     "user_tz": -240
    },
    "id": "s5YA8NNAckNM",
    "outputId": "4f999b13-d414-4435-bfee-7fb8846b39d3"
   },
   "outputs": [],
   "source": [
    "shape = x.shape\n",
    "print(\"Shape:\", x.shape)\n",
    "\n",
    "size = x.size()\n",
    "print(\"Size:\", size)\n",
    "\n",
    "dim1, dim2, dim3 = x.size()\n",
    "print(\"Size:\", dim1, dim2, dim3)"
   ]
  },
  {
   "cell_type": "markdown",
   "metadata": {
    "id": "ACZPHoWpckNM"
   },
   "source": [
    "#### Tensor to Numpy, and Numpy to Tensor\n",
    "\n",
    "Tensors can be converted to numpy arrays, and numpy arrays back to tensors. To transform a numpy array into a tensor, we can use the function `torch.from_numpy`:"
   ]
  },
  {
   "cell_type": "code",
   "execution_count": null,
   "metadata": {
    "colab": {
     "base_uri": "https://localhost:8080/"
    },
    "executionInfo": {
     "elapsed": 19,
     "status": "ok",
     "timestamp": 1717012908280,
     "user": {
      "displayName": "ivo gollini",
      "userId": "07972790533589124204"
     },
     "user_tz": -240
    },
    "id": "bJdRHImzckNM",
    "outputId": "6804fea1-b866-49f3-ec57-c401f7394615"
   },
   "outputs": [],
   "source": [
    "np_arr = np.array([[1, 2], [3, 4]])\n",
    "tensor = torch.from_numpy(np_arr)\n",
    "\n",
    "print(\"Numpy array:\", np_arr)\n",
    "print(\"PyTorch tensor:\", tensor)"
   ]
  },
  {
   "cell_type": "markdown",
   "metadata": {
    "id": "QXlXXVP5ckNM"
   },
   "source": [
    "To transform a PyTorch tensor back to a numpy array, we can use the function `.numpy()` on tensors:"
   ]
  },
  {
   "cell_type": "code",
   "execution_count": null,
   "metadata": {
    "colab": {
     "base_uri": "https://localhost:8080/"
    },
    "executionInfo": {
     "elapsed": 18,
     "status": "ok",
     "timestamp": 1717012908281,
     "user": {
      "displayName": "ivo gollini",
      "userId": "07972790533589124204"
     },
     "user_tz": -240
    },
    "id": "IvipECK5ckNM",
    "outputId": "04c5c73c-ac7b-43c3-d835-61b05c4d1ccd"
   },
   "outputs": [],
   "source": [
    "tensor = torch.arange(4)\n",
    "np_arr = tensor.numpy()\n",
    "\n",
    "print(\"PyTorch tensor:\", tensor)\n",
    "print(\"Numpy array:\", np_arr)"
   ]
  },
  {
   "cell_type": "markdown",
   "metadata": {
    "id": "4rd2_jqjckNM"
   },
   "source": [
    "The conversion of tensors to numpy require the tensor to be on the CPU, and not the GPU (more on GPU support in a later section). In case you have a tensor on GPU, you need to call `.cpu()` on the tensor beforehand. Hence, you get a line like\n",
    "\n",
    "    np_arr = tensor.cpu().numpy()"
   ]
  },
  {
   "cell_type": "markdown",
   "metadata": {
    "id": "f6oYmQwfckNM"
   },
   "source": [
    "#### Operations\n",
    "\n",
    "Most operations that exist in numpy, also exist in PyTorch. A full list of operations can be found in the [PyTorch documentation](https://pytorch.org/docs/stable/tensors.html#), but we will review the most important ones here.\n",
    "\n",
    "The simplest operation is to add two tensors:"
   ]
  },
  {
   "cell_type": "code",
   "execution_count": null,
   "metadata": {
    "colab": {
     "base_uri": "https://localhost:8080/"
    },
    "executionInfo": {
     "elapsed": 16,
     "status": "ok",
     "timestamp": 1717012908281,
     "user": {
      "displayName": "ivo gollini",
      "userId": "07972790533589124204"
     },
     "user_tz": -240
    },
    "id": "BpgLcduTckNN",
    "outputId": "a10a03b7-5533-4430-9351-8f9df3bef1b5"
   },
   "outputs": [],
   "source": [
    "x1 = torch.rand(2, 3)\n",
    "x2 = torch.rand(2, 3)\n",
    "y = x1 + x2\n",
    "\n",
    "print(\"X1\", x1)\n",
    "print(\"X2\", x2)\n",
    "print(\"Y\", y)"
   ]
  },
  {
   "cell_type": "markdown",
   "metadata": {
    "id": "QcYv4ssYckNN"
   },
   "source": [
    "We can also use in-place operations that are applied directly on the memory of a tensor. We therefore change the values of `x2` without the chance to re-accessing the values of `x2` before the operation."
   ]
  },
  {
   "cell_type": "code",
   "execution_count": null,
   "metadata": {
    "colab": {
     "base_uri": "https://localhost:8080/"
    },
    "executionInfo": {
     "elapsed": 14,
     "status": "ok",
     "timestamp": 1717012908281,
     "user": {
      "displayName": "ivo gollini",
      "userId": "07972790533589124204"
     },
     "user_tz": -240
    },
    "id": "25haBZFockNN",
    "outputId": "33d72bed-3163-402c-ac20-f11347df2bc5"
   },
   "outputs": [],
   "source": [
    "x1 = torch.rand(2, 3)\n",
    "x2 = torch.rand(2, 3)\n",
    "print(\"X1 (before)\", x1)\n",
    "print(\"X2 (before)\", x2)\n",
    "\n",
    "x2.add_(x1)\n",
    "print(\"X1 (after)\", x1)\n",
    "print(\"X2 (after)\", x2)"
   ]
  },
  {
   "cell_type": "markdown",
   "metadata": {
    "id": "Bzg6UWrHckNN"
   },
   "source": [
    "In-place operations are usually marked with a underscore postfix (e.g. \"add_\" instead of \"add\").\n",
    "\n",
    "Another common operation aims at changing the shape of a tensor. A tensor of size (2,3) can be re-organized to any other shape with the same number of elements (e.g. a tensor of size (6), or (3,2), ...). In PyTorch, this operation is called `view`:"
   ]
  },
  {
   "cell_type": "code",
   "execution_count": null,
   "metadata": {
    "colab": {
     "base_uri": "https://localhost:8080/"
    },
    "executionInfo": {
     "elapsed": 12,
     "status": "ok",
     "timestamp": 1717012908281,
     "user": {
      "displayName": "ivo gollini",
      "userId": "07972790533589124204"
     },
     "user_tz": -240
    },
    "id": "SnmFgCSfckNN",
    "outputId": "2dada10c-a4f1-4734-a443-f09173660b95"
   },
   "outputs": [],
   "source": [
    "x = torch.arange(6)\n",
    "print(\"X\", x)"
   ]
  },
  {
   "cell_type": "code",
   "execution_count": null,
   "metadata": {
    "colab": {
     "base_uri": "https://localhost:8080/"
    },
    "executionInfo": {
     "elapsed": 10,
     "status": "ok",
     "timestamp": 1717012908281,
     "user": {
      "displayName": "ivo gollini",
      "userId": "07972790533589124204"
     },
     "user_tz": -240
    },
    "id": "-k6DtCzPckNN",
    "outputId": "17564e9e-7997-4fc0-eeb7-deda7ae1aeee"
   },
   "outputs": [],
   "source": [
    "x = x.view(2, 3)\n",
    "print(\"X\", x)"
   ]
  },
  {
   "cell_type": "code",
   "execution_count": null,
   "metadata": {
    "colab": {
     "base_uri": "https://localhost:8080/"
    },
    "executionInfo": {
     "elapsed": 7,
     "status": "ok",
     "timestamp": 1717012908281,
     "user": {
      "displayName": "ivo gollini",
      "userId": "07972790533589124204"
     },
     "user_tz": -240
    },
    "id": "IKlW6ZsBckNN",
    "outputId": "070287d4-7bc4-4e9a-84b6-ce4c73184fea"
   },
   "outputs": [],
   "source": [
    "x = x.permute(1, 0) # Swapping dimension 0 and 1\n",
    "print(\"X\", x)"
   ]
  },
  {
   "cell_type": "markdown",
   "metadata": {
    "id": "8iAeKASockNN"
   },
   "source": [
    "Other commonly used operations include matrix multiplications, which are essential for neural networks. Quite often, we have an input vector $\\mathbf{x}$, which is transformed using a learned weight matrix $\\mathbf{W}$. There are multiple ways and functions to perform matrix multiplication, some of which we list below:\n",
    "\n",
    "* `torch.matmul`: Performs the matrix product over two tensors, where the specific behavior depends on the dimensions. If both inputs are matrices (2-dimensional tensors), it performs the standard matrix product. For higher dimensional inputs, the function supports broadcasting (for details see the [documentation](https://pytorch.org/docs/stable/generated/torch.matmul.html?highlight=matmul#torch.matmul)). Can also be written as `a @ b`, similar to numpy.\n",
    "* `torch.mm`: Performs the matrix product over two matrices, but doesn't support broadcasting (see [documentation](https://pytorch.org/docs/stable/generated/torch.mm.html?highlight=torch%20mm#torch.mm))\n",
    "* `torch.bmm`: Performs the matrix product with a support batch dimension. If the first tensor $T$ is of shape ($b\\times n\\times m$), and the second tensor $R$ ($b\\times m\\times p$), the output $O$ is of shape ($b\\times n\\times p$), and has been calculated by performing $b$ matrix multiplications of the submatrices of $T$ and $R$: $O_i = T_i @ R_i$"
   ]
  },
  {
   "cell_type": "code",
   "execution_count": null,
   "metadata": {
    "colab": {
     "base_uri": "https://localhost:8080/"
    },
    "executionInfo": {
     "elapsed": 5,
     "status": "ok",
     "timestamp": 1717012908281,
     "user": {
      "displayName": "ivo gollini",
      "userId": "07972790533589124204"
     },
     "user_tz": -240
    },
    "id": "BakL1ocKckNN",
    "outputId": "dd266261-7490-47b8-bffc-3f466d610ec9"
   },
   "outputs": [],
   "source": [
    "x = torch.arange(6)\n",
    "x = x.view(2, 3)\n",
    "print(\"X\", x)"
   ]
  },
  {
   "cell_type": "code",
   "execution_count": null,
   "metadata": {
    "colab": {
     "base_uri": "https://localhost:8080/"
    },
    "executionInfo": {
     "elapsed": 764,
     "status": "ok",
     "timestamp": 1717012909042,
     "user": {
      "displayName": "ivo gollini",
      "userId": "07972790533589124204"
     },
     "user_tz": -240
    },
    "id": "Rr788lfbckNN",
    "outputId": "fc77a919-2639-4105-dec8-af5571d2e085"
   },
   "outputs": [],
   "source": [
    "W = torch.arange(9).view(3, 3) # We can also stack multiple operations in a single line\n",
    "print(\"W\", W)"
   ]
  },
  {
   "cell_type": "code",
   "execution_count": null,
   "metadata": {
    "colab": {
     "base_uri": "https://localhost:8080/"
    },
    "executionInfo": {
     "elapsed": 42,
     "status": "ok",
     "timestamp": 1717012909042,
     "user": {
      "displayName": "ivo gollini",
      "userId": "07972790533589124204"
     },
     "user_tz": -240
    },
    "id": "SRPUOP6-ckNN",
    "outputId": "b1a49cdc-3b8a-438a-a4ed-4372e34e912e"
   },
   "outputs": [],
   "source": [
    "h = torch.matmul(x, W) # Verify the result by calculating it by hand too!\n",
    "print(\"h\", h)"
   ]
  },
  {
   "cell_type": "markdown",
   "metadata": {
    "id": "IbNj_rF3ckNN"
   },
   "source": [
    "#### Indexing\n",
    "\n",
    "We often have the situation where we need to select a part of a tensor. Indexing works just like in numpy."
   ]
  },
  {
   "cell_type": "code",
   "execution_count": null,
   "metadata": {
    "colab": {
     "base_uri": "https://localhost:8080/"
    },
    "executionInfo": {
     "elapsed": 40,
     "status": "ok",
     "timestamp": 1717012909043,
     "user": {
      "displayName": "ivo gollini",
      "userId": "07972790533589124204"
     },
     "user_tz": -240
    },
    "id": "pvB4yzlSckNO",
    "outputId": "370bea42-7ec2-4a0b-e8ab-a0efa70a9659"
   },
   "outputs": [],
   "source": [
    "x = torch.arange(12).view(3, 4)\n",
    "print(\"X\", x)"
   ]
  },
  {
   "cell_type": "code",
   "execution_count": null,
   "metadata": {
    "colab": {
     "base_uri": "https://localhost:8080/"
    },
    "executionInfo": {
     "elapsed": 37,
     "status": "ok",
     "timestamp": 1717012909043,
     "user": {
      "displayName": "ivo gollini",
      "userId": "07972790533589124204"
     },
     "user_tz": -240
    },
    "id": "belkDk3qckNO",
    "outputId": "3eb2468c-da45-43e4-cca9-e6202440e57b"
   },
   "outputs": [],
   "source": [
    "print(x[:, 1])   # Second column"
   ]
  },
  {
   "cell_type": "code",
   "execution_count": null,
   "metadata": {
    "colab": {
     "base_uri": "https://localhost:8080/"
    },
    "executionInfo": {
     "elapsed": 34,
     "status": "ok",
     "timestamp": 1717012909043,
     "user": {
      "displayName": "ivo gollini",
      "userId": "07972790533589124204"
     },
     "user_tz": -240
    },
    "id": "j5Iu2TlrckNO",
    "outputId": "038e4834-f395-445d-f627-a0932a789744"
   },
   "outputs": [],
   "source": [
    "print(x[0])      # First row"
   ]
  },
  {
   "cell_type": "code",
   "execution_count": null,
   "metadata": {
    "colab": {
     "base_uri": "https://localhost:8080/"
    },
    "executionInfo": {
     "elapsed": 31,
     "status": "ok",
     "timestamp": 1717012909043,
     "user": {
      "displayName": "ivo gollini",
      "userId": "07972790533589124204"
     },
     "user_tz": -240
    },
    "id": "9R5_XhsbckNO",
    "outputId": "c87f04fb-c9ff-4bca-ca6e-1459b38fcc2e"
   },
   "outputs": [],
   "source": [
    "print(x[:2, -1]) # First two rows, last column"
   ]
  },
  {
   "cell_type": "code",
   "execution_count": null,
   "metadata": {
    "colab": {
     "base_uri": "https://localhost:8080/"
    },
    "executionInfo": {
     "elapsed": 29,
     "status": "ok",
     "timestamp": 1717012909043,
     "user": {
      "displayName": "ivo gollini",
      "userId": "07972790533589124204"
     },
     "user_tz": -240
    },
    "id": "wssiJsg3ckNO",
    "outputId": "a48639f0-22fb-4b96-f388-db506694ad01"
   },
   "outputs": [],
   "source": [
    "print(x[1:3, :]) # Middle two rows"
   ]
  },
  {
   "cell_type": "markdown",
   "metadata": {
    "id": "UGqI2RUBnrS8"
   },
   "source": [
    "### Gradients and Backpropagation\n",
    "\n",
    "You should remember from yesterday, a learning algorithm takes and input $\\mathbf{x}$ and produces an output $\\hat{y}$. The learning process involves measuring the error between output prediction and the true label $y$. Using this error measure, we can utilize the gradients to update the weights $\\mathbf{W}$ responsible for the output, thereby improving the network's predictions when it encounters the same input $\\mathbf{x}$ in the future.\n",
    "\n",
    "Well, one of the primary advantages of using PyTorch is its ability to automatically compute gradients/derivatives of functions we define.\n",
    "\n",
    "The first step is to specify which tensors require gradients. By default, tensors do not require gradients when created."
   ]
  },
  {
   "cell_type": "code",
   "execution_count": null,
   "metadata": {
    "colab": {
     "base_uri": "https://localhost:8080/"
    },
    "executionInfo": {
     "elapsed": 27,
     "status": "ok",
     "timestamp": 1717012909043,
     "user": {
      "displayName": "ivo gollini",
      "userId": "07972790533589124204"
     },
     "user_tz": -240
    },
    "id": "z89Rb5wtckNO",
    "outputId": "cd7db8e5-2d91-4d11-d558-dd735edf70d8"
   },
   "outputs": [],
   "source": [
    "x = torch.ones((3,))\n",
    "print(x.requires_grad)"
   ]
  },
  {
   "cell_type": "markdown",
   "metadata": {
    "id": "HDA6HtuuckNR"
   },
   "source": [
    "We can change this for an existing tensor using the function `requires_grad_()` (underscore indicating that this is a in-place operation). Alternatively, when creating a tensor, you can pass the argument `requires_grad=True` to most initializers we have seen above."
   ]
  },
  {
   "cell_type": "code",
   "execution_count": null,
   "metadata": {
    "colab": {
     "base_uri": "https://localhost:8080/"
    },
    "executionInfo": {
     "elapsed": 26,
     "status": "ok",
     "timestamp": 1717012909044,
     "user": {
      "displayName": "ivo gollini",
      "userId": "07972790533589124204"
     },
     "user_tz": -240
    },
    "id": "XmoX6SYIckNR",
    "outputId": "94a4f06a-446e-4f09-835c-6aa48a4f2549"
   },
   "outputs": [],
   "source": [
    "x.requires_grad_(True)\n",
    "print(x.requires_grad)"
   ]
  },
  {
   "cell_type": "markdown",
   "metadata": {
    "id": "O8grUL4UckNR"
   },
   "source": [
    "Given an input $\\mathbf{x}$, we define our function by manipulating that input, typically through matrix multiplications with weight matrices and additions with bias vectors. During this manipulation, we automatically construct a computational graph, which illustrates the steps to achieve our output from the input. PyTorch, being a define-by-run framework, tracks this graph as we perform our operations, thus creating a dynamic computation graph in real-time.\n",
    "\n",
    "In order to get familiar with the concept of a computation graph, we will create one for the following function:\n",
    "\n",
    "$$y = \\frac{1}{\\ell(x)}\\sum_i \\left[(x_i + 2)^2 + 3\\right],$$\n",
    "\n",
    "where we use $\\ell(x)$ to denote the number of elements in $x$. In other words, we are taking a mean here over the operation within the sum. You could imagine that $x$ are our parameters, and we want to optimize (either maximize or minimize) the output $y$. For this, we want to obtain the gradients $\\partial y / \\partial \\mathbf{x}$. For our example, we'll use $\\mathbf{x}=[0,1,2]$ as our input."
   ]
  },
  {
   "cell_type": "code",
   "execution_count": null,
   "metadata": {
    "colab": {
     "base_uri": "https://localhost:8080/"
    },
    "executionInfo": {
     "elapsed": 25,
     "status": "ok",
     "timestamp": 1717012909044,
     "user": {
      "displayName": "ivo gollini",
      "userId": "07972790533589124204"
     },
     "user_tz": -240
    },
    "id": "APlLwZ4UckNR",
    "outputId": "a78d906d-947a-4df3-9d31-3cd7043a1c1d"
   },
   "outputs": [],
   "source": [
    "x = torch.arange(3, dtype=torch.float32, requires_grad=True) # Only float tensors can have gradients\n",
    "print(\"X\", x)"
   ]
  },
  {
   "cell_type": "markdown",
   "metadata": {
    "id": "wAMJYVKRckNS"
   },
   "source": [
    "Now let's build the computation graph step by step. You can combine multiple operations in a single line, but we will separate them here to get a better understanding of how each operation is added to the computation graph."
   ]
  },
  {
   "cell_type": "code",
   "execution_count": null,
   "metadata": {
    "colab": {
     "base_uri": "https://localhost:8080/"
    },
    "executionInfo": {
     "elapsed": 23,
     "status": "ok",
     "timestamp": 1717012909044,
     "user": {
      "displayName": "ivo gollini",
      "userId": "07972790533589124204"
     },
     "user_tz": -240
    },
    "id": "46FhAqncckNS",
    "outputId": "d6f52df9-886a-4bba-9fa9-5667c3c3c637"
   },
   "outputs": [],
   "source": [
    "a = x + 2\n",
    "b = a ** 2\n",
    "c = b + 3\n",
    "y = c.mean()\n",
    "print(\"Y\", y)"
   ]
  },
  {
   "cell_type": "markdown",
   "metadata": {
    "id": "QjyBqsTLckNS"
   },
   "source": [
    "Using the statements above, we have created a computation graph that looks similar to the figure below:\n",
    "\n",
    "<center style=\"width: 100%\"><img src=\"https://github.com/phlippe/uvadlc_notebooks/blob/master/docs/tutorial_notebooks/tutorial2/pytorch_computation_graph.svg?raw=1\" width=\"200px\"></center>\n",
    "\n",
    "We calculate $a$ based on the inputs $x$ and the constant $2$, $b$ is $a$ squared, and so on. The visualization is an abstraction of the dependencies between inputs and outputs of the operations we have applied.\n",
    "Each node of the computation graph has automatically defined a function for calculating the gradients with respect to its inputs, `grad_fn`. You can see this when we printed the output tensor $y$. This is why the computation graph is usually visualized in the reverse direction (arrows point from the result to the inputs). We can perform backpropagation on the computation graph by calling the function `backward()` on the last output, which effectively calculates the gradients for each tensor that has the property `requires_grad=True`:"
   ]
  },
  {
   "cell_type": "code",
   "execution_count": null,
   "metadata": {
    "executionInfo": {
     "elapsed": 21,
     "status": "ok",
     "timestamp": 1717012909044,
     "user": {
      "displayName": "ivo gollini",
      "userId": "07972790533589124204"
     },
     "user_tz": -240
    },
    "id": "NP0ttfr-ckNS"
   },
   "outputs": [],
   "source": [
    "# TODO: Complete this part - Hint: y.backward()"
   ]
  },
  {
   "cell_type": "markdown",
   "metadata": {
    "id": "pQ5s3jY2ckNS"
   },
   "source": [
    "`x.grad` will now contain the gradient $\\partial y/ \\partial \\mathcal{x}$, and this gradient indicates how a change in $\\mathbf{x}$ will affect output $y$ given the current input $\\mathbf{x}=[0,1,2]$:"
   ]
  },
  {
   "cell_type": "code",
   "execution_count": null,
   "metadata": {
    "colab": {
     "base_uri": "https://localhost:8080/"
    },
    "executionInfo": {
     "elapsed": 20,
     "status": "ok",
     "timestamp": 1717012909044,
     "user": {
      "displayName": "ivo gollini",
      "userId": "07972790533589124204"
     },
     "user_tz": -240
    },
    "id": "3sKorZC8ckNS",
    "outputId": "2930af8a-90a3-4002-ceab-eda7f49059ed"
   },
   "outputs": [],
   "source": [
    "print(x.grad)"
   ]
  },
  {
   "cell_type": "markdown",
   "metadata": {
    "id": "ucSL5VLMckNS"
   },
   "source": [
    "We can also verify these gradients by hand. We will calculate the gradients using the chain rule, in the same way as PyTorch did it:\n",
    "\n",
    "$$\\frac{\\partial y}{\\partial x_i} = \\frac{\\partial y}{\\partial c_i}\\frac{\\partial c_i}{\\partial b_i}\\frac{\\partial b_i}{\\partial a_i}\\frac{\\partial a_i}{\\partial x_i}$$\n",
    "\n",
    "Note that we have simplified this equation to index notation, and by using the fact that all operation besides the mean do not combine the elements in the tensor. The partial derivatives are:\n",
    "\n",
    "$$\n",
    "\\frac{\\partial a_i}{\\partial x_i} = 1,\\hspace{1cm}\n",
    "\\frac{\\partial b_i}{\\partial a_i} = 2\\cdot a_i\\hspace{1cm}\n",
    "\\frac{\\partial c_i}{\\partial b_i} = 1\\hspace{1cm}\n",
    "\\frac{\\partial y}{\\partial c_i} = \\frac{1}{3}\n",
    "$$\n",
    "\n",
    "Hence, with the input being $\\mathbf{x}=[0,1,2]$, our gradients are $\\partial y/\\partial \\mathbf{x}=[4/3,2,8/3]$. The previous code cell should have printed the same result."
   ]
  },
  {
   "cell_type": "markdown",
   "metadata": {
    "id": "0uapfv_SckNS"
   },
   "source": [
    "### GPU support\n",
    "\n",
    "A crucial feature of PyTorch is the support of GPUs, short for Graphics Processing Unit. A GPU can perform many thousands of small operations in parallel, making it very well suitable for performing large matrix operations in neural networks. When comparing GPUs to CPUs, we can list the following main differences (credit: [Kevin Krewell, 2009](https://blogs.nvidia.com/blog/2009/12/16/whats-the-difference-between-a-cpu-and-a-gpu/))\n",
    "\n",
    "<center style=\"width: 100%\"><img src=\"https://github.com/phlippe/uvadlc_notebooks/blob/master/docs/tutorial_notebooks/tutorial2/comparison_CPU_GPU.png?raw=1\" width=\"700px\"></center>\n",
    "\n",
    "CPUs and GPUs have both different advantages and disadvantages, which is why many computers contain both components and use them for different tasks. In case you are not familiar with GPUs, you can read up more details in this [NVIDIA blog post](https://blogs.nvidia.com/blog/2009/12/16/whats-the-difference-between-a-cpu-and-a-gpu/) or [here](https://www.intel.com/content/www/us/en/products/docs/processors/what-is-a-gpu.html).\n",
    "\n",
    "GPUs can accelerate the training of your network up to a factor of $100$ which is essential for large neural networks. PyTorch implements a lot of functionality for supporting GPUs (mostly those of NVIDIA due to the libraries [CUDA](https://developer.nvidia.com/cuda-zone) and [cuDNN](https://developer.nvidia.com/cudnn)).\n",
    "\n",
    "First, let's check the GPU availability:"
   ]
  },
  {
   "cell_type": "code",
   "execution_count": null,
   "metadata": {
    "colab": {
     "base_uri": "https://localhost:8080/"
    },
    "executionInfo": {
     "elapsed": 16,
     "status": "ok",
     "timestamp": 1717012909044,
     "user": {
      "displayName": "ivo gollini",
      "userId": "07972790533589124204"
     },
     "user_tz": -240
    },
    "id": "7XdM2q3dckNS",
    "outputId": "68ac53f7-3953-4d52-8c80-6edb76a555c0"
   },
   "outputs": [],
   "source": [
    "gpu_avail = torch.cuda.is_available()\n",
    "print(f\"Is the GPU available? {gpu_avail}\")"
   ]
  },
  {
   "cell_type": "markdown",
   "metadata": {
    "id": "l6U0IFHickNS"
   },
   "source": [
    "By default, all tensors you create are stored on the CPU. We can push a tensor to the GPU by using the function `.to(...)`, or `.cuda()`. However, it is often a good practice to define a `device` object in your code which points to the GPU if you have one, and otherwise to the CPU. Then, you can write your code with respect to this device object, and it allows you to run the same code on both a CPU-only system, and one with a GPU. Let's try it below. We can specify the device as follows:"
   ]
  },
  {
   "cell_type": "code",
   "execution_count": null,
   "metadata": {
    "colab": {
     "base_uri": "https://localhost:8080/"
    },
    "executionInfo": {
     "elapsed": 13,
     "status": "ok",
     "timestamp": 1717012909044,
     "user": {
      "displayName": "ivo gollini",
      "userId": "07972790533589124204"
     },
     "user_tz": -240
    },
    "id": "is4AALxcckNS",
    "outputId": "af671e69-d2ab-48df-9596-ed0d76a1fa41"
   },
   "outputs": [],
   "source": [
    "device = torch.device(\"cuda\") if torch.cuda.is_available() else torch.device(\"cpu\")\n",
    "print(\"Device\", device)"
   ]
  },
  {
   "cell_type": "markdown",
   "metadata": {
    "id": "e7CGjVV0ckNS"
   },
   "source": [
    "Now let's create a tensor and push it to the device:"
   ]
  },
  {
   "cell_type": "code",
   "execution_count": null,
   "metadata": {
    "colab": {
     "base_uri": "https://localhost:8080/"
    },
    "executionInfo": {
     "elapsed": 10,
     "status": "ok",
     "timestamp": 1717012909044,
     "user": {
      "displayName": "ivo gollini",
      "userId": "07972790533589124204"
     },
     "user_tz": -240
    },
    "id": "1yR1coVVckNS",
    "outputId": "aa600ba3-019e-478a-9eb7-ec5cf5d1da9a"
   },
   "outputs": [],
   "source": [
    "x = torch.zeros(2, 3)\n",
    "x = x.to(device)\n",
    "print(\"X\", x)"
   ]
  },
  {
   "cell_type": "markdown",
   "metadata": {
    "id": "UmNWx71DckNT"
   },
   "source": [
    "You should now see the attribute `device='cuda:0'` being printed next to your tensor. The zero next to cuda indicates that this is the zero-th GPU device on your computer. PyTorch also supports multi-GPU systems, required to train very big networks in a distributed learning setting (you can check the [PyTorch documentation](https://pytorch.org/docs/stable/distributed.html#distributed-basics) for more information).\n",
    "\n",
    "Let's compare the runtime of a large matrix multiplication on the CPU with a operation on the GPU:"
   ]
  },
  {
   "cell_type": "code",
   "execution_count": null,
   "metadata": {
    "colab": {
     "base_uri": "https://localhost:8080/"
    },
    "executionInfo": {
     "elapsed": 4068,
     "status": "ok",
     "timestamp": 1717012913105,
     "user": {
      "displayName": "ivo gollini",
      "userId": "07972790533589124204"
     },
     "user_tz": -240
    },
    "id": "MwakJ0VpckNT",
    "outputId": "601615e8-5cac-4d91-f19d-3d99c4b40748"
   },
   "outputs": [],
   "source": [
    "x = torch.randn(5000, 5000)\n",
    "\n",
    "## CPU version\n",
    "start_time = time.time()\n",
    "_ = torch.matmul(x, x)\n",
    "end_time = time.time()\n",
    "print(f\"CPU time: {(end_time - start_time):6.5f}s\")\n",
    "\n",
    "## GPU version\n",
    "x = x.to(device)\n",
    "_ = torch.matmul(x, x)  # First operation to 'burn in' GPU\n",
    "# CUDA is asynchronous, so we need to use different timing functions\n",
    "start = torch.cuda.Event(enable_timing=True)\n",
    "end = torch.cuda.Event(enable_timing=True)\n",
    "start.record()\n",
    "_ = torch.matmul(x, x)\n",
    "end.record()\n",
    "torch.cuda.synchronize()  # Waits for everything to finish running on the GPU\n",
    "print(f\"GPU time: {0.001 * start.elapsed_time(end):6.5f}s\")  # Milliseconds to seconds"
   ]
  },
  {
   "cell_type": "markdown",
   "metadata": {
    "id": "7FxTtWGfwrUX"
   },
   "source": [
    "## 3. Neural Networks\n",
    "\n",
    "**Neural networks**, also known as artificial neural networks (ANNs) or simulated neural networks (SNNs), are a subset of machine learning and are at the heart of deep learning algorithms. Their name and structure are inspired by the human brain, mimicking the way that biological neurons signal to one another.\n",
    "\n",
    "Neural networks rely on training data to learn and improve their accuracy over time. However, once these learning algorithms are fine-tuned for accuracy, they are powerful tools in computer science and artificial intelligence, allowing us to classify and cluster data at a high velocity. Tasks in speech recognition or image recognition can take minutes versus hours when compared to the manual identification by human experts. One of the most well-known neural networks is Google’s search algorithm.\n",
    "\n",
    "![image.png](data:image/png;base64,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)\n"
   ]
  },
  {
   "cell_type": "markdown",
   "metadata": {
    "id": "DzuTVZ3G2rKy"
   },
   "source": [
    "PyTorch has a package called `torch.nn` that makes building neural networks very convenient. You will be introduced to the libraries and all necessary components to train a neural network in PyTorch by using a simple example classifier on a well-known problem: the XOR function.\n",
    "\n",
    "Given two binary inputs, $x_1$ and $x_2$, the label to predict is $1$ if either $x_1$ or $x_2$ is $1$ while the other is $0$. In all other cases, the label is $0$. This example is famous for illustrating that a single neuron, or linear classifier, cannot learn this function. Can you see why is the case?"
   ]
  },
  {
   "cell_type": "markdown",
   "metadata": {
    "id": "vej5pzm22dKw"
   },
   "source": [
    "![image.png](data:image/png;base64,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)"
   ]
  },
  {
   "cell_type": "markdown",
   "metadata": {
    "id": "4eddo4pbckNT"
   },
   "source": [
    "The package `torch.nn` defines a series of useful classes like linear networks layers, activation functions, loss functions etc. A full list can be found [here](https://pytorch.org/docs/stable/nn.html)."
   ]
  },
  {
   "cell_type": "code",
   "execution_count": null,
   "metadata": {
    "executionInfo": {
     "elapsed": 14,
     "status": "ok",
     "timestamp": 1717012913105,
     "user": {
      "displayName": "ivo gollini",
      "userId": "07972790533589124204"
     },
     "user_tz": -240
    },
    "id": "zymVsskZckNT"
   },
   "outputs": [],
   "source": [
    "import torch.nn as nn"
   ]
  },
  {
   "cell_type": "markdown",
   "metadata": {
    "id": "PKWYZoTMckNT"
   },
   "source": [
    "Additionally to `torch.nn`, there is also `torch.nn.functional`. It contains functions that are used in network layers. This is in contrast to `torch.nn` which defines them as `nn.Modules` (more on it below), and `torch.nn` actually uses a lot of functionalities from `torch.nn.functional`. Hence, the functional package is useful in many situations, and so we import it as well here."
   ]
  },
  {
   "cell_type": "code",
   "execution_count": null,
   "metadata": {
    "executionInfo": {
     "elapsed": 13,
     "status": "ok",
     "timestamp": 1717012913105,
     "user": {
      "displayName": "ivo gollini",
      "userId": "07972790533589124204"
     },
     "user_tz": -240
    },
    "id": "4nX8Bo42ckNT"
   },
   "outputs": [],
   "source": [
    "import torch.nn.functional as F"
   ]
  },
  {
   "cell_type": "markdown",
   "metadata": {
    "id": "3-5yAYbKckNT"
   },
   "source": [
    "#### nn.Module\n",
    "\n",
    "In PyTorch, a neural network is built up out of modules. Modules can contain other modules, and a neural network is considered to be a module itself as well. The basic template of a module is as follows:"
   ]
  },
  {
   "cell_type": "code",
   "execution_count": null,
   "metadata": {
    "executionInfo": {
     "elapsed": 13,
     "status": "ok",
     "timestamp": 1717012913105,
     "user": {
      "displayName": "ivo gollini",
      "userId": "07972790533589124204"
     },
     "user_tz": -240
    },
    "id": "ltiF1LeTckNT"
   },
   "outputs": [],
   "source": [
    "class MyModule(nn.Module):\n",
    "\n",
    "    def __init__(self):\n",
    "        super().__init__()\n",
    "        # Some init for my module\n",
    "\n",
    "    def forward(self, x):\n",
    "        # Function for performing the calculation of the module.\n",
    "        pass"
   ]
  },
  {
   "cell_type": "markdown",
   "metadata": {
    "id": "StFJOuFBckNU"
   },
   "source": [
    "The forward function is where the computation of the module is taken place, and is executed when you call the module (`nn = MyModule(); nn(x)`). In the init function, we usually create the parameters of the module, using `nn.Parameter`, or defining other modules that are used in the forward function. The backward calculation is done automatically, but could be overwritten as well if wanted.\n",
    "\n",
    "#### Simple classifier\n",
    "We can now make use of the pre-defined modules in the `torch.nn` package, and define our own small neural network. We will use a minimal network with a input layer, one hidden layer with tanh as activation function, and a output layer. In other words, our networks should look something like this:\n",
    "\n",
    "<center width=\"100%\"><img src=\"https://github.com/phlippe/uvadlc_notebooks/blob/master/docs/tutorial_notebooks/tutorial2/small_neural_network.svg?raw=1\" width=\"300px\"></center>\n",
    "\n",
    "The input neurons are shown in blue, which represent the coordinates $x_1$ and $x_2$ of a data point. The hidden neurons including a tanh activation are shown in white, and the output neuron in red.\n",
    "In PyTorch, we can define this as follows:"
   ]
  },
  {
   "cell_type": "code",
   "execution_count": null,
   "metadata": {
    "executionInfo": {
     "elapsed": 13,
     "status": "ok",
     "timestamp": 1717012913105,
     "user": {
      "displayName": "ivo gollini",
      "userId": "07972790533589124204"
     },
     "user_tz": -240
    },
    "id": "p4nVBibvckNU"
   },
   "outputs": [],
   "source": [
    "class SimpleClassifier(nn.Module):\n",
    "\n",
    "    def __init__(self, num_inputs, num_hidden, num_outputs):\n",
    "        super().__init__()\n",
    "        # Initialize the modules we need to build the network\n",
    "        pass\n",
    "\n",
    "    def forward(self, x):\n",
    "        \n",
    "        # TODO: Complete this part - Hint: # Perform the calculation of the model to determine the prediction\n",
    "        \n",
    "        return"
   ]
  },
  {
   "cell_type": "markdown",
   "metadata": {
    "id": "TLVKKTgnckNU"
   },
   "source": [
    "For the examples in this notebook, we will use a tiny neural network with two input neurons and four hidden neurons. As we perform binary classification, we will use a single output neuron."
   ]
  },
  {
   "cell_type": "code",
   "execution_count": null,
   "metadata": {
    "colab": {
     "base_uri": "https://localhost:8080/"
    },
    "executionInfo": {
     "elapsed": 12,
     "status": "ok",
     "timestamp": 1717012913105,
     "user": {
      "displayName": "ivo gollini",
      "userId": "07972790533589124204"
     },
     "user_tz": -240
    },
    "id": "RBO82rsXckNU",
    "outputId": "2382d3e6-5171-4469-9158-7ae1af64f392"
   },
   "outputs": [],
   "source": [
    "# TODO: Complete this part - Hint: # Define the model model = ?(num_inputs=?, num_hidden=?, num_outputs=?)"
   ]
  },
  {
   "cell_type": "markdown",
   "metadata": {
    "id": "IvQxfgt5ckNU"
   },
   "source": [
    "Printing the model lists all submodules it contains. The parameters of a module can be obtained by using its `parameters()` functions, or `named_parameters()` to get a name to each parameter object. For our small neural network, we have the following parameters:"
   ]
  },
  {
   "cell_type": "code",
   "execution_count": null,
   "metadata": {
    "colab": {
     "base_uri": "https://localhost:8080/"
    },
    "executionInfo": {
     "elapsed": 8,
     "status": "ok",
     "timestamp": 1717012913105,
     "user": {
      "displayName": "ivo gollini",
      "userId": "07972790533589124204"
     },
     "user_tz": -240
    },
    "id": "hq8oFQqjckNU",
    "outputId": "908631e1-c324-4c25-fa7f-ff74d73c2b4f"
   },
   "outputs": [],
   "source": [
    "# TODO: Complete this part"
   ]
  },
  {
   "cell_type": "markdown",
   "metadata": {
    "id": "g2iBxBhlckNU"
   },
   "source": [
    "Each linear layer has a weight matrix of the shape `[output, input]`, and a bias of the shape `[output]`. The tanh activation function does not have any parameters. Note that parameters are only registered for `nn.Module` objects that are direct object attributes, i.e. `self.a = ...`. If you define a list of modules, the parameters of those are not registered for the outer module and can cause some issues when you try to optimize your module. There are alternatives, like `nn.ModuleList`, `nn.ModuleDict` and `nn.Sequential`, that allow you to have different data structures of modules. We will use them in a few later tutorials and explain them there."
   ]
  },
  {
   "cell_type": "markdown",
   "metadata": {
    "id": "VgJ9AQaxckNU"
   },
   "source": [
    "### The data\n",
    "\n",
    "PyTorch also provides a few functionalities to load the training and test data efficiently, summarized in the package `torch.utils.data`."
   ]
  },
  {
   "cell_type": "code",
   "execution_count": null,
   "metadata": {
    "executionInfo": {
     "elapsed": 7,
     "status": "ok",
     "timestamp": 1717012913106,
     "user": {
      "displayName": "ivo gollini",
      "userId": "07972790533589124204"
     },
     "user_tz": -240
    },
    "id": "LAlP1_cuckNU"
   },
   "outputs": [],
   "source": [
    "import torch.utils.data as data"
   ]
  },
  {
   "cell_type": "markdown",
   "metadata": {
    "id": "eSRflN7CckNU"
   },
   "source": [
    "The data package defines two classes which are the standard interface for handling data in PyTorch: `data.Dataset`, and `data.DataLoader`. The dataset class provides an uniform interface to access the training/test data, while the data loader makes sure to efficiently load and stack the data points from the dataset into batches during training."
   ]
  },
  {
   "cell_type": "markdown",
   "metadata": {
    "id": "HvwVRordckNU"
   },
   "source": [
    "#### The dataset class\n",
    "\n",
    "The dataset class summarizes the basic functionality of a dataset in a natural way. To define a dataset in PyTorch, we simply specify two functions: `__getitem__`, and `__len__`. The get-item function has to return the $i$-th data point in the dataset, while the len function returns the size of the dataset. For the XOR dataset, we can define the dataset class as follows:"
   ]
  },
  {
   "cell_type": "code",
   "execution_count": null,
   "metadata": {
    "executionInfo": {
     "elapsed": 7,
     "status": "ok",
     "timestamp": 1717012913106,
     "user": {
      "displayName": "ivo gollini",
      "userId": "07972790533589124204"
     },
     "user_tz": -240
    },
    "id": "MB4nOBbdckNU"
   },
   "outputs": [],
   "source": [
    "class XORDataset(data.Dataset):\n",
    "\n",
    "    def __init__(self, size, std=0.1):\n",
    "        \"\"\"\n",
    "        Inputs:\n",
    "            size - Number of data points we want to generate\n",
    "            std - Standard deviation of the noise (see generate_continuous_xor function)\n",
    "        \"\"\"\n",
    "        super().__init__()\n",
    "        self.size = size\n",
    "        self.std = std\n",
    "        self.generate_continuous_xor()\n",
    "\n",
    "    def generate_continuous_xor(self):\n",
    "        # Each data point in the XOR dataset has two variables, x and y, that can be either 0 or 1\n",
    "        # The label is their XOR combination, i.e. 1 if only x or only y is 1 while the other is 0.\n",
    "        # If x=y, the label is 0.\n",
    "        data = torch.randint(low=0, high=2, size=(self.size, 2), dtype=torch.float32)\n",
    "        label = (data.sum(dim=1) == 1).to(torch.long)\n",
    "        # To make it slightly more challenging, we add a bit of gaussian noise to the data points.\n",
    "        data += self.std * torch.randn(data.shape)\n",
    "\n",
    "        self.data = data\n",
    "        self.label = label\n",
    "\n",
    "    def __len__(self):\n",
    "        # Number of data point we have. Alternatively self.data.shape[0], or self.label.shape[0]\n",
    "        return self.size\n",
    "\n",
    "    def __getitem__(self, idx):\n",
    "        # Return the idx-th data point of the dataset\n",
    "        # If we have multiple things to return (data point and label), we can return them as tuple\n",
    "        data_point = self.data[idx]\n",
    "        data_label = self.label[idx]\n",
    "        return data_point, data_label"
   ]
  },
  {
   "cell_type": "markdown",
   "metadata": {
    "id": "W_n9kIzZckNV"
   },
   "source": [
    "Let's try to create such a dataset and inspect it:"
   ]
  },
  {
   "cell_type": "code",
   "execution_count": null,
   "metadata": {
    "colab": {
     "base_uri": "https://localhost:8080/"
    },
    "executionInfo": {
     "elapsed": 7,
     "status": "ok",
     "timestamp": 1717012913106,
     "user": {
      "displayName": "ivo gollini",
      "userId": "07972790533589124204"
     },
     "user_tz": -240
    },
    "id": "KfF89alWckNV",
    "outputId": "1978b0d8-8ebb-4d49-b4f0-be4dd14fe28c"
   },
   "outputs": [],
   "source": [
    "dataset = XORDataset(size=200)\n",
    "print(\"Size of dataset:\", len(dataset))\n",
    "print(\"Data point 0:\", dataset[0])"
   ]
  },
  {
   "cell_type": "markdown",
   "metadata": {
    "id": "VKpftrYwckNV"
   },
   "source": [
    "To better relate to the dataset, we visualize the samples below."
   ]
  },
  {
   "cell_type": "code",
   "execution_count": null,
   "metadata": {
    "executionInfo": {
     "elapsed": 4,
     "status": "ok",
     "timestamp": 1717012913106,
     "user": {
      "displayName": "ivo gollini",
      "userId": "07972790533589124204"
     },
     "user_tz": -240
    },
    "id": "kta_VQwwckNV"
   },
   "outputs": [],
   "source": [
    "def visualize_samples(data, label):\n",
    "    if isinstance(data, torch.Tensor):\n",
    "        data = data.cpu().numpy()\n",
    "    if isinstance(label, torch.Tensor):\n",
    "        label = label.cpu().numpy()\n",
    "    data_0 = data[label == 0]\n",
    "    data_1 = data[label == 1]\n",
    "\n",
    "    plt.figure(figsize=(4,4))\n",
    "    plt.scatter(data_0[:,0], data_0[:,1], edgecolor=\"#333\", label=\"Class 0\")\n",
    "    plt.scatter(data_1[:,0], data_1[:,1], edgecolor=\"#333\", label=\"Class 1\")\n",
    "    plt.title(\"Dataset samples\")\n",
    "    plt.ylabel(r\"$x_2$\")\n",
    "    plt.xlabel(r\"$x_1$\")\n",
    "    plt.legend()"
   ]
  },
  {
   "cell_type": "code",
   "execution_count": null,
   "metadata": {
    "colab": {
     "base_uri": "https://localhost:8080/",
     "height": 404
    },
    "executionInfo": {
     "elapsed": 1761,
     "status": "ok",
     "timestamp": 1717012914863,
     "user": {
      "displayName": "ivo gollini",
      "userId": "07972790533589124204"
     },
     "user_tz": -240
    },
    "id": "-IK-tnvuckNV",
    "outputId": "f05f023f-0c7b-4861-ae0a-ac94d66582b9"
   },
   "outputs": [],
   "source": [
    "visualize_samples(dataset.data, dataset.label)\n",
    "plt.show()"
   ]
  },
  {
   "cell_type": "markdown",
   "metadata": {
    "id": "vV_-FBCEckNV"
   },
   "source": [
    "#### The data loader class\n",
    "\n",
    "The class `torch.utils.data.DataLoader` represents a Python iterable over a dataset with support for automatic batching, multi-process data loading and many more features. The data loader communicates with the dataset using the function `__getitem__`, and stacks its outputs as tensors over the first dimension to form a batch.\n",
    "In contrast to the dataset class, we usually don't have to define our own data loader class, but can just create an object of it with the dataset as input. Additionally, we can configure our data loader with the following input arguments (only a selection, see full list [here](https://pytorch.org/docs/stable/data.html#torch.utils.data.DataLoader)):\n",
    "\n",
    "* `batch_size`: Number of samples to stack per batch\n",
    "* `shuffle`: If True, the data is returned in a random order. This is important during training for introducing stochasticity.\n",
    "* `num_workers`: Number of subprocesses to use for data loading. The default, 0, means that the data will be loaded in the main process which can slow down training for datasets where loading a data point takes a considerable amount of time (e.g. large images). More workers are recommended for those, but can cause issues on Windows computers. For tiny datasets as ours, 0 workers are usually faster.\n",
    "* `pin_memory`: If True, the data loader will copy Tensors into CUDA pinned memory before returning them. This can save some time for large data points on GPUs. Usually a good practice to use for a training set, but not necessarily for validation and test to save memory on the GPU.\n",
    "* `drop_last`: If True, the last batch is dropped in case it is smaller than the specified batch size. This occurs when the dataset size is not a multiple of the batch size. Only potentially helpful during training to keep a consistent batch size.\n",
    "\n",
    "Let's create a simple data loader below:"
   ]
  },
  {
   "cell_type": "code",
   "execution_count": null,
   "metadata": {
    "executionInfo": {
     "elapsed": 5,
     "status": "ok",
     "timestamp": 1717012914863,
     "user": {
      "displayName": "ivo gollini",
      "userId": "07972790533589124204"
     },
     "user_tz": -240
    },
    "id": "XT8-4qaRckNV"
   },
   "outputs": [],
   "source": [
    "data_loader = data.DataLoader(dataset, batch_size=8, shuffle=True)"
   ]
  },
  {
   "cell_type": "code",
   "execution_count": null,
   "metadata": {
    "colab": {
     "base_uri": "https://localhost:8080/"
    },
    "executionInfo": {
     "elapsed": 4,
     "status": "ok",
     "timestamp": 1717012914863,
     "user": {
      "displayName": "ivo gollini",
      "userId": "07972790533589124204"
     },
     "user_tz": -240
    },
    "id": "m-JjMWl4ckNV",
    "outputId": "3c7c6f27-230d-42ef-be1e-b6a691f255dd"
   },
   "outputs": [],
   "source": [
    "# next(iter(...)) catches the first batch of the data loader\n",
    "# If shuffle is True, this will return a different batch every time we run this cell\n",
    "# For iterating over the whole dataset, we can simple use \"for batch in data_loader: ...\"\n",
    "data_inputs, data_labels = next(iter(data_loader))\n",
    "\n",
    "# The shape of the outputs are [batch_size, d_1,...,d_N] where d_1,...,d_N are the\n",
    "# dimensions of the data point returned from the dataset class\n",
    "print(\"Data inputs\", data_inputs.shape, \"\\n\", data_inputs)\n",
    "print(\"Data labels\", data_labels.shape, \"\\n\", data_labels)"
   ]
  },
  {
   "cell_type": "markdown",
   "metadata": {
    "id": "Sk0kREzAckNV"
   },
   "source": [
    "### Optimization\n",
    "\n",
    "After defining the model and the dataset, it is time to prepare the optimization of the model. During training, we will perform the following steps:\n",
    "\n",
    "1. Get a batch from the data loader\n",
    "2. Obtain the predictions from the model for the batch\n",
    "3. Calculate the loss based on the difference between predictions and labels\n",
    "4. Backpropagation: calculate the gradients for every parameter with respect to the loss\n",
    "5. Update the parameters of the model in the direction of the gradients\n",
    "\n",
    "We have seen how we can do step 1, 2 and 4 in PyTorch. Now, we will look at step 3 and 5."
   ]
  },
  {
   "cell_type": "markdown",
   "metadata": {
    "id": "G6UDVm9vckNV"
   },
   "source": [
    "#### Loss modules\n",
    "\n",
    "We can calculate the loss for a batch by simply performing a few tensor operations as those are automatically added to the computation graph. For instance, for binary classification, we can use Binary Cross Entropy (BCE) which is defined as follows:\n",
    "\n",
    "$$\\mathcal{L}_{BCE} = -\\sum_i \\left[ y_i \\log x_i + (1 - y_i) \\log (1 - x_i) \\right]$$\n",
    "\n",
    "where $y$ are our labels, and $x$ our predictions, both in the range of $[0,1]$. However, PyTorch already provides a list of predefined loss functions which we can use (see [here](https://pytorch.org/docs/stable/nn.html#loss-functions) for a full list). For instance, for BCE, PyTorch has two modules: `nn.BCELoss()`, `nn.BCEWithLogitsLoss()`. While `nn.BCELoss` expects the inputs $x$ to be in the range $[0,1]$, i.e. the output of a sigmoid, `nn.BCEWithLogitsLoss` combines a sigmoid layer and the BCE loss in a single class. This version is numerically more stable than using a plain Sigmoid followed by a BCE loss because of the logarithms applied in the loss function. For our model defined above, we therefore use the module `nn.BCEWithLogitsLoss`."
   ]
  },
  {
   "cell_type": "code",
   "execution_count": null,
   "metadata": {
    "executionInfo": {
     "elapsed": 2,
     "status": "ok",
     "timestamp": 1717012914863,
     "user": {
      "displayName": "ivo gollini",
      "userId": "07972790533589124204"
     },
     "user_tz": -240
    },
    "id": "OjA4f_QwckNV"
   },
   "outputs": [],
   "source": [
    "# TODO: Complete this part"
   ]
  },
  {
   "cell_type": "markdown",
   "metadata": {
    "id": "8Mi1TOxBckNW"
   },
   "source": [
    "#### Stochastic Gradient Descent\n",
    "\n",
    "For updating the parameters, PyTorch provides the package `torch.optim` that has most popular optimizers implemented. Now, we will now the simplest of them: `torch.optim.SGD`. Stochastic Gradient Descent updates parameters by multiplying the gradients with a small constant, called learning rate, and subtracting those from the parameters (hence minimizing the loss). Therefore, we slowly move towards the direction of minimizing the loss. A good default value of the learning rate for a small network as ours is 0.1."
   ]
  },
  {
   "cell_type": "code",
   "execution_count": null,
   "metadata": {
    "executionInfo": {
     "elapsed": 2440,
     "status": "ok",
     "timestamp": 1717012917301,
     "user": {
      "displayName": "ivo gollini",
      "userId": "07972790533589124204"
     },
     "user_tz": -240
    },
    "id": "R-RjPZl2ckNW"
   },
   "outputs": [],
   "source": [
    "# TODO: Complete this part - Hint: # Input to the optimizer are the parameters of the model: model.parameters()"
   ]
  },
  {
   "cell_type": "markdown",
   "metadata": {
    "id": "AKAzOXvpckNW"
   },
   "source": [
    "The optimizer provides two useful functions: `optimizer.step()`, and `optimizer.zero_grad()`. The step function updates the parameters based on the gradients as explained above. The function `optimizer.zero_grad()` sets the gradients of all parameters to zero. While this function seems less relevant at first, it is a crucial pre-step before performing backpropagation. If we call the `backward` function on the loss while the parameter gradients are non-zero from the previous batch, the new gradients would actually be added to the previous ones instead of overwriting them. This is done because a parameter might occur multiple times in a computation graph, and we need to sum the gradients in this case instead of replacing them. Hence, remember to call `optimizer.zero_grad()` before calculating the gradients of a batch."
   ]
  },
  {
   "cell_type": "markdown",
   "metadata": {
    "id": "QVkRYGKMckNW"
   },
   "source": [
    "### Training\n",
    "\n",
    "Finally, we are ready to train our model. As a first step, we create a slightly larger dataset and specify a data loader with a larger batch size."
   ]
  },
  {
   "cell_type": "code",
   "execution_count": null,
   "metadata": {
    "executionInfo": {
     "elapsed": 8,
     "status": "ok",
     "timestamp": 1717012917301,
     "user": {
      "displayName": "ivo gollini",
      "userId": "07972790533589124204"
     },
     "user_tz": -240
    },
    "id": "RCtqEY-GckNW"
   },
   "outputs": [],
   "source": [
    "train_dataset = XORDataset(size=2500)\n",
    "train_data_loader = data.DataLoader(train_dataset, batch_size=128, shuffle=True)"
   ]
  },
  {
   "cell_type": "markdown",
   "metadata": {
    "id": "oZ5AlMCOckNW"
   },
   "source": [
    "Now, we can write a small training function. Remember our five steps: load a batch, obtain the predictions, calculate the loss, backpropagate, and update. Additionally, we have to push all data and model parameters to the device of our choice (GPU if available). For the tiny neural network we have, communicating the data to the GPU actually takes much more time than we could save from running the operation on CPU. For large networks, the communication time is significantly smaller than the actual runtime making a GPU crucial in these cases. Still, to practice, we will push the data to GPU here."
   ]
  },
  {
   "cell_type": "code",
   "execution_count": null,
   "metadata": {
    "colab": {
     "base_uri": "https://localhost:8080/"
    },
    "executionInfo": {
     "elapsed": 8,
     "status": "ok",
     "timestamp": 1717012917301,
     "user": {
      "displayName": "ivo gollini",
      "userId": "07972790533589124204"
     },
     "user_tz": -240
    },
    "id": "ASxmGG5PckNW",
    "outputId": "9f05cbb9-5bc8-448b-e305-8381f07ee849"
   },
   "outputs": [],
   "source": [
    "# TODO: Complete this part - Hint: # Push model to device. Has to be only done once"
   ]
  },
  {
   "cell_type": "markdown",
   "metadata": {
    "id": "BVty89E3ckNW"
   },
   "source": [
    "In addition, we set our model to training mode. This is done by calling `model.train()`. There exist certain modules that need to perform a different forward step during training than during testing (e.g. BatchNorm and Dropout), and we can switch between them using `model.train()` and `model.eval()`."
   ]
  },
  {
   "cell_type": "code",
   "execution_count": null,
   "metadata": {
    "executionInfo": {
     "elapsed": 6,
     "status": "ok",
     "timestamp": 1717012917302,
     "user": {
      "displayName": "ivo gollini",
      "userId": "07972790533589124204"
     },
     "user_tz": -240
    },
    "id": "upcoTJnockNW"
   },
   "outputs": [],
   "source": [
    "def train_model(model, optimizer, data_loader, loss_module, num_epochs=100):\n",
    "    \n",
    "    # Set model to train mode\n",
    "    model.train()\n",
    "\n",
    "    # Training loop\n",
    "    for epoch in tqdm(range(num_epochs)):\n",
    "\n",
    "        for data_inputs, data_labels in data_loader:\n",
    "\n",
    "            ## Step 1: Move input data to device (only strictly necessary if we use GPU)\n",
    "            data_inputs = data_inputs.to(device)\n",
    "            data_labels = data_labels.to(device)\n",
    "\n",
    "            ## Step 2: Run the model on the input data\n",
    "            # TODO: Complete this part - Hint: preds = ?(data_inputs)\n",
    "            preds = preds.squeeze(dim=1) # Output is [Batch size, 1], but we want [Batch size]\n",
    "\n",
    "            ## Step 3: Calculate the loss\n",
    "            # TODO: Complete this part - Hint: loss = ?(preds, data_labels.float())\n",
    "\n",
    "            ## Step 4: Perform backpropagation\n",
    "            # Before calculating the gradients, we need to ensure that they are all zero.\n",
    "            # The gradients would not be overwritten, but actually added to the existing ones.\n",
    "            # TODO: Complete this part - Hint: ?.zero_grad()\n",
    "            # Perform backpropagation\n",
    "            # TODO: Complete this part - Hint: ?.backward()\n",
    "\n",
    "            ## Step 5: Update the parameters\n",
    "            # TODO: Complete this part - Hint: ?.step()"
   ]
  },
  {
   "cell_type": "code",
   "execution_count": null,
   "metadata": {
    "colab": {
     "base_uri": "https://localhost:8080/",
     "height": 49,
     "referenced_widgets": [
      "5572427cffcc448db4c4fac8271803ea",
      "d0f16faa5f9a461ba2fc2f7a52cd9d96",
      "3cb666982f1f4ead82ac181bf34352f0",
      "5ca68ce938c84c2d9976640d3803406c",
      "5d746944e84b4bd187f0b5c8e4b91162",
      "016cd87f6ba24b8fbe53b78fa59ed388",
      "ca4bfe347aa54e9f86dc9ee15f71b0df",
      "9d238f7e8a304f62a851cfa2c56f0a84",
      "e75722d8df874dd796d2d417eac76441",
      "a5b02f60be87427f93336543fe8094f5",
      "d98ef2de45b44a418aaf365f8d4d05e8"
     ]
    },
    "executionInfo": {
     "elapsed": 9589,
     "status": "ok",
     "timestamp": 1717012926886,
     "user": {
      "displayName": "ivo gollini",
      "userId": "07972790533589124204"
     },
     "user_tz": -240
    },
    "id": "UzIOk2zCckNW",
    "outputId": "9ff8c301-67b1-4477-baa1-8a371b293d68"
   },
   "outputs": [],
   "source": [
    "# TODO: Complete this part - Hint: ?(model, optimizer, train_data_loader, loss_module)"
   ]
  },
  {
   "cell_type": "markdown",
   "metadata": {
    "id": "sHsB493-ckNW"
   },
   "source": [
    "#### Saving a model\n",
    "\n",
    "After finish training a model, we save the model to disk so that we can load the same weights at a later time. For this, we extract the so-called `state_dict` from the model which contains all learnable parameters. For our simple model, the state dict contains the following entries:"
   ]
  },
  {
   "cell_type": "code",
   "execution_count": null,
   "metadata": {
    "colab": {
     "base_uri": "https://localhost:8080/"
    },
    "executionInfo": {
     "elapsed": 21,
     "status": "ok",
     "timestamp": 1717012926886,
     "user": {
      "displayName": "ivo gollini",
      "userId": "07972790533589124204"
     },
     "user_tz": -240
    },
    "id": "9TZmlEWfckNW",
    "outputId": "a6a59cf3-0270-4f9e-e46e-082c420bf541"
   },
   "outputs": [],
   "source": [
    "# TODO: Complete this part\n",
    "print(state_dict)"
   ]
  },
  {
   "cell_type": "markdown",
   "metadata": {
    "id": "B1RUf5wAckNX"
   },
   "source": [
    "To save the state dictionary, we can use `torch.save`:"
   ]
  },
  {
   "cell_type": "code",
   "execution_count": null,
   "metadata": {
    "executionInfo": {
     "elapsed": 18,
     "status": "ok",
     "timestamp": 1717012926886,
     "user": {
      "displayName": "ivo gollini",
      "userId": "07972790533589124204"
     },
     "user_tz": -240
    },
    "id": "58QjV1gtckNX"
   },
   "outputs": [],
   "source": [
    "# TODO: Complete this part - Hint: torch.save(object, filename). For the filename, any extension can be used"
   ]
  },
  {
   "cell_type": "markdown",
   "metadata": {
    "id": "ud53lVZGckNX"
   },
   "source": [
    "To load a model from a state dict, we use the function `torch.load` to load the state dict from the disk, and the module function `load_state_dict` to overwrite our parameters with the new values:"
   ]
  },
  {
   "cell_type": "code",
   "execution_count": null,
   "metadata": {
    "colab": {
     "base_uri": "https://localhost:8080/"
    },
    "executionInfo": {
     "elapsed": 18,
     "status": "ok",
     "timestamp": 1717012926886,
     "user": {
      "displayName": "ivo gollini",
      "userId": "07972790533589124204"
     },
     "user_tz": -240
    },
    "id": "Mz5hRULTckNX",
    "outputId": "33c678f3-fd25-4232-9b55-041abb0072a2"
   },
   "outputs": [],
   "source": [
    "# TODO: Load state dict from the disk (make sure it is the same name as above)"
   ]
  },
  {
   "cell_type": "markdown",
   "metadata": {
    "id": "sX17uzblckNX"
   },
   "source": [
    "A detailed tutorial on saving and loading models in PyTorch can be found [here](https://pytorch.org/tutorials/beginner/saving_loading_models.html)."
   ]
  },
  {
   "cell_type": "markdown",
   "metadata": {
    "id": "CI77lgNBckNX"
   },
   "source": [
    "### Evaluation\n",
    "\n",
    "Once we have trained a model, it is time to evaluate it on a held-out test set. As our dataset consist of randomly generated data points, we need to first create a test set with a corresponding data loader."
   ]
  },
  {
   "cell_type": "code",
   "execution_count": null,
   "metadata": {
    "executionInfo": {
     "elapsed": 15,
     "status": "ok",
     "timestamp": 1717012926886,
     "user": {
      "displayName": "ivo gollini",
      "userId": "07972790533589124204"
     },
     "user_tz": -240
    },
    "id": "zuZa2NdockNX"
   },
   "outputs": [],
   "source": [
    "test_dataset = XORDataset(size=500)\n",
    "# drop_last -> Don't drop the last batch although it is smaller than 128\n",
    "test_data_loader = data.DataLoader(test_dataset, batch_size=128, shuffle=False, drop_last=False)"
   ]
  },
  {
   "cell_type": "markdown",
   "metadata": {
    "id": "1SY6lHQYckNX"
   },
   "source": [
    "As metric, we will use accuracy which is calculated as follows:\n",
    "\n",
    "$$acc = \\frac{\\#\\text{correct predictions}}{\\#\\text{all predictions}} = \\frac{TP+TN}{TP+TN+FP+FN}$$\n",
    "\n",
    "where TP are the true positives, TN true negatives, FP false positives, and FN the fale negatives.\n",
    "\n",
    "When evaluating the model, we don't need to keep track of the computation graph as we don't intend to calculate the gradients. This reduces the required memory and speed up the model. In PyTorch, we can deactivate the computation graph using `with torch.no_grad(): ...`. Remember to additionally set the model to eval mode."
   ]
  },
  {
   "cell_type": "code",
   "execution_count": null,
   "metadata": {
    "executionInfo": {
     "elapsed": 15,
     "status": "ok",
     "timestamp": 1717012926886,
     "user": {
      "displayName": "ivo gollini",
      "userId": "07972790533589124204"
     },
     "user_tz": -240
    },
    "id": "-TFawbMSckNX"
   },
   "outputs": [],
   "source": [
    "def eval_model(model, data_loader):\n",
    "    \n",
    "    # Set model to eval mode\n",
    "    true_preds, num_preds = 0., 0.\n",
    "\n",
    "    with torch.no_grad(): # Deactivate gradients for the following code\n",
    "        \n",
    "        for data_inputs, data_labels in data_loader:\n",
    "\n",
    "            # Determine prediction of model on dev set\n",
    "            data_inputs, data_labels = data_inputs.to(device), data_labels.to(device)\n",
    "            # TODO: Complete this part - Hint: preds = ?(data_inputs)\n",
    "            preds = preds.squeeze(dim=1)\n",
    "            preds = torch.sigmoid(preds) # Sigmoid to map predictions between 0 and 1\n",
    "            pred_labels = (preds >= 0.5).long() # Binarize predictions to 0 and 1\n",
    "\n",
    "            # TODO: Keep records of predictions for the accuracy metric (true_preds=TP+TN, num_preds=TP+TN+FP+FN)\n",
    "\n",
    "    acc = true_preds / num_preds\n",
    "    print(f\"Accuracy of the model: {100.0 * acc:4.2f}%\")"
   ]
  },
  {
   "cell_type": "code",
   "execution_count": null,
   "metadata": {
    "colab": {
     "base_uri": "https://localhost:8080/"
    },
    "executionInfo": {
     "elapsed": 14,
     "status": "ok",
     "timestamp": 1717012926886,
     "user": {
      "displayName": "ivo gollini",
      "userId": "07972790533589124204"
     },
     "user_tz": -240
    },
    "id": "k1ZCS8nhckNX",
    "outputId": "e16ff94f-f48c-4a11-a84e-7240dcdc5882"
   },
   "outputs": [],
   "source": [
    "# TODO: Complete this part - Hint: ?(model, test_data_loader)"
   ]
  },
  {
   "cell_type": "markdown",
   "metadata": {
    "id": "yuPRU4BDckNY"
   },
   "source": [
    "If we trained our model correctly, we should see a score close to 100% accuracy. However, this is only possible because of our simple task, and unfortunately, we usually don't get such high scores on test sets of more complex tasks."
   ]
  },
  {
   "cell_type": "markdown",
   "metadata": {
    "id": "B_393nntckNY"
   },
   "source": [
    "#### Visualizing classification boundaries\n",
    "\n",
    "To visualize what our model has learned, we can perform a prediction for every data point in a range of $[-0.5, 1.5]$, and visualize the predicted class as in the sample figure at the beginning of this section. This shows where the model has created decision boundaries, and which points would be classified as $0$, and which as $1$. We therefore get a background image out of blue (class 0) and orange (class 1). The spots where the model is uncertain we will see a blurry overlap. The specific code is less relevant compared to the output figure which should hopefully show us a clear separation of classes:"
   ]
  },
  {
   "cell_type": "code",
   "execution_count": null,
   "metadata": {
    "colab": {
     "base_uri": "https://localhost:8080/",
     "height": 404
    },
    "executionInfo": {
     "elapsed": 3145,
     "status": "ok",
     "timestamp": 1717012930020,
     "user": {
      "displayName": "ivo gollini",
      "userId": "07972790533589124204"
     },
     "user_tz": -240
    },
    "id": "ioX9RTSkckNY",
    "outputId": "6c31a2fe-bded-4b14-c7db-29f73b26d276"
   },
   "outputs": [],
   "source": [
    "@torch.no_grad() # Decorator, same effect as \"with torch.no_grad(): ...\" over the whole function.\n",
    "def visualize_classification(model, data, label):\n",
    "    if isinstance(data, torch.Tensor):\n",
    "        data = data.cpu().numpy()\n",
    "    if isinstance(label, torch.Tensor):\n",
    "        label = label.cpu().numpy()\n",
    "    data_0 = data[label == 0]\n",
    "    data_1 = data[label == 1]\n",
    "\n",
    "    fig = plt.figure(figsize=(4,4), dpi=500)\n",
    "    plt.scatter(data_0[:,0], data_0[:,1], edgecolor=\"#333\", label=\"Class 0\")\n",
    "    plt.scatter(data_1[:,0], data_1[:,1], edgecolor=\"#333\", label=\"Class 1\")\n",
    "    plt.title(\"Dataset samples\")\n",
    "    plt.ylabel(r\"$x_2$\")\n",
    "    plt.xlabel(r\"$x_1$\")\n",
    "    plt.legend()\n",
    "\n",
    "    # Let's make use of a lot of operations we have learned above\n",
    "    model.to(device)\n",
    "    c0 = torch.Tensor(to_rgba(\"C0\")).to(device)\n",
    "    c1 = torch.Tensor(to_rgba(\"C1\")).to(device)\n",
    "    x1 = torch.arange(-0.5, 1.5, step=0.01, device=device)\n",
    "    x2 = torch.arange(-0.5, 1.5, step=0.01, device=device)\n",
    "    xx1, xx2 = torch.meshgrid(x1, x2, indexing='ij')  # Meshgrid function as in numpy\n",
    "    # TODO: Complete this part - Hint: model_inputs = torch.stack([?, ?], dim=-1)\n",
    "    preds = model(model_inputs)\n",
    "    preds = torch.sigmoid(preds)\n",
    "    output_image = (1 - preds) * c0[None,None] + preds * c1[None,None]  # Specifying \"None\" in a dimension creates a new one\n",
    "    output_image = output_image.cpu().numpy()  # Convert to numpy array. This only works for tensors on CPU, hence first push to CPU\n",
    "    plt.imshow(output_image, origin='lower', extent=(-0.5, 1.5, -0.5, 1.5))\n",
    "    plt.grid(False)\n",
    "    return fig\n",
    "\n",
    "_ = visualize_classification(model, dataset.data, dataset.label)\n",
    "plt.show()"
   ]
  },
  {
   "cell_type": "markdown",
   "metadata": {
    "id": "2qe3GhWRdl4g"
   },
   "source": [
    "Code based on PyTorch tutorial for the Deep Learning course 2023 at the University of Amsterdam by Phillip Lippe\n",
    "\n",
    "[![View filled on Github](https://img.shields.io/static/v1.svg?logo=github&label=Repo&message=View%20On%20Github&color=lightgrey)](https://github.com/phlippe/uvadlc_notebooks/tree/master)   "
   ]
  }
 ],
 "metadata": {
  "accelerator": "GPU",
  "colab": {
   "gpuType": "T4",
   "provenance": [
    {
     "file_id": "https://github.com/phlippe/uvadlc_notebooks/blob/master/docs/tutorial_notebooks/tutorial2/Introduction_to_PyTorch.ipynb",
     "timestamp": 1717004563826
    }
   ]
  },
  "kernelspec": {
   "display_name": "Python 3",
   "name": "python3"
  },
  "language_info": {
   "codemirror_mode": {
    "name": "ipython",
    "version": 3
   },
   "file_extension": ".py",
   "mimetype": "text/x-python",
   "name": "python",
   "nbconvert_exporter": "python",
   "pygments_lexer": "ipython3",
   "version": "3.9.18"
  },
  "widgets": {
   "application/vnd.jupyter.widget-state+json": {
    "016cd87f6ba24b8fbe53b78fa59ed388": {
     "model_module": "@jupyter-widgets/base",
     "model_module_version": "1.2.0",
     "model_name": "LayoutModel",
     "state": {
      "_model_module": "@jupyter-widgets/base",
      "_model_module_version": "1.2.0",
      "_model_name": "LayoutModel",
      "_view_count": null,
      "_view_module": "@jupyter-widgets/base",
      "_view_module_version": "1.2.0",
      "_view_name": "LayoutView",
      "align_content": null,
      "align_items": null,
      "align_self": null,
      "border": null,
      "bottom": null,
      "display": null,
      "flex": null,
      "flex_flow": null,
      "grid_area": null,
      "grid_auto_columns": null,
      "grid_auto_flow": null,
      "grid_auto_rows": null,
      "grid_column": null,
      "grid_gap": null,
      "grid_row": null,
      "grid_template_areas": null,
      "grid_template_columns": null,
      "grid_template_rows": null,
      "height": null,
      "justify_content": null,
      "justify_items": null,
      "left": null,
      "margin": null,
      "max_height": null,
      "max_width": null,
      "min_height": null,
      "min_width": null,
      "object_fit": null,
      "object_position": null,
      "order": null,
      "overflow": null,
      "overflow_x": null,
      "overflow_y": null,
      "padding": null,
      "right": null,
      "top": null,
      "visibility": null,
      "width": null
     }
    },
    "3cb666982f1f4ead82ac181bf34352f0": {
     "model_module": "@jupyter-widgets/controls",
     "model_module_version": "1.5.0",
     "model_name": "FloatProgressModel",
     "state": {
      "_dom_classes": [],
      "_model_module": "@jupyter-widgets/controls",
      "_model_module_version": "1.5.0",
      "_model_name": "FloatProgressModel",
      "_view_count": null,
      "_view_module": "@jupyter-widgets/controls",
      "_view_module_version": "1.5.0",
      "_view_name": "ProgressView",
      "bar_style": "success",
      "description": "",
      "description_tooltip": null,
      "layout": "IPY_MODEL_9d238f7e8a304f62a851cfa2c56f0a84",
      "max": 100,
      "min": 0,
      "orientation": "horizontal",
      "style": "IPY_MODEL_e75722d8df874dd796d2d417eac76441",
      "value": 100
     }
    },
    "5572427cffcc448db4c4fac8271803ea": {
     "model_module": "@jupyter-widgets/controls",
     "model_module_version": "1.5.0",
     "model_name": "HBoxModel",
     "state": {
      "_dom_classes": [],
      "_model_module": "@jupyter-widgets/controls",
      "_model_module_version": "1.5.0",
      "_model_name": "HBoxModel",
      "_view_count": null,
      "_view_module": "@jupyter-widgets/controls",
      "_view_module_version": "1.5.0",
      "_view_name": "HBoxView",
      "box_style": "",
      "children": [
       "IPY_MODEL_d0f16faa5f9a461ba2fc2f7a52cd9d96",
       "IPY_MODEL_3cb666982f1f4ead82ac181bf34352f0",
       "IPY_MODEL_5ca68ce938c84c2d9976640d3803406c"
      ],
      "layout": "IPY_MODEL_5d746944e84b4bd187f0b5c8e4b91162"
     }
    },
    "5ca68ce938c84c2d9976640d3803406c": {
     "model_module": "@jupyter-widgets/controls",
     "model_module_version": "1.5.0",
     "model_name": "HTMLModel",
     "state": {
      "_dom_classes": [],
      "_model_module": "@jupyter-widgets/controls",
      "_model_module_version": "1.5.0",
      "_model_name": "HTMLModel",
      "_view_count": null,
      "_view_module": "@jupyter-widgets/controls",
      "_view_module_version": "1.5.0",
      "_view_name": "HTMLView",
      "description": "",
      "description_tooltip": null,
      "layout": "IPY_MODEL_a5b02f60be87427f93336543fe8094f5",
      "placeholder": "​",
      "style": "IPY_MODEL_d98ef2de45b44a418aaf365f8d4d05e8",
      "value": " 100/100 [00:09&lt;00:00, 13.67it/s]"
     }
    },
    "5d746944e84b4bd187f0b5c8e4b91162": {
     "model_module": "@jupyter-widgets/base",
     "model_module_version": "1.2.0",
     "model_name": "LayoutModel",
     "state": {
      "_model_module": "@jupyter-widgets/base",
      "_model_module_version": "1.2.0",
      "_model_name": "LayoutModel",
      "_view_count": null,
      "_view_module": "@jupyter-widgets/base",
      "_view_module_version": "1.2.0",
      "_view_name": "LayoutView",
      "align_content": null,
      "align_items": null,
      "align_self": null,
      "border": null,
      "bottom": null,
      "display": null,
      "flex": null,
      "flex_flow": null,
      "grid_area": null,
      "grid_auto_columns": null,
      "grid_auto_flow": null,
      "grid_auto_rows": null,
      "grid_column": null,
      "grid_gap": null,
      "grid_row": null,
      "grid_template_areas": null,
      "grid_template_columns": null,
      "grid_template_rows": null,
      "height": null,
      "justify_content": null,
      "justify_items": null,
      "left": null,
      "margin": null,
      "max_height": null,
      "max_width": null,
      "min_height": null,
      "min_width": null,
      "object_fit": null,
      "object_position": null,
      "order": null,
      "overflow": null,
      "overflow_x": null,
      "overflow_y": null,
      "padding": null,
      "right": null,
      "top": null,
      "visibility": null,
      "width": null
     }
    },
    "9d238f7e8a304f62a851cfa2c56f0a84": {
     "model_module": "@jupyter-widgets/base",
     "model_module_version": "1.2.0",
     "model_name": "LayoutModel",
     "state": {
      "_model_module": "@jupyter-widgets/base",
      "_model_module_version": "1.2.0",
      "_model_name": "LayoutModel",
      "_view_count": null,
      "_view_module": "@jupyter-widgets/base",
      "_view_module_version": "1.2.0",
      "_view_name": "LayoutView",
      "align_content": null,
      "align_items": null,
      "align_self": null,
      "border": null,
      "bottom": null,
      "display": null,
      "flex": null,
      "flex_flow": null,
      "grid_area": null,
      "grid_auto_columns": null,
      "grid_auto_flow": null,
      "grid_auto_rows": null,
      "grid_column": null,
      "grid_gap": null,
      "grid_row": null,
      "grid_template_areas": null,
      "grid_template_columns": null,
      "grid_template_rows": null,
      "height": null,
      "justify_content": null,
      "justify_items": null,
      "left": null,
      "margin": null,
      "max_height": null,
      "max_width": null,
      "min_height": null,
      "min_width": null,
      "object_fit": null,
      "object_position": null,
      "order": null,
      "overflow": null,
      "overflow_x": null,
      "overflow_y": null,
      "padding": null,
      "right": null,
      "top": null,
      "visibility": null,
      "width": null
     }
    },
    "a5b02f60be87427f93336543fe8094f5": {
     "model_module": "@jupyter-widgets/base",
     "model_module_version": "1.2.0",
     "model_name": "LayoutModel",
     "state": {
      "_model_module": "@jupyter-widgets/base",
      "_model_module_version": "1.2.0",
      "_model_name": "LayoutModel",
      "_view_count": null,
      "_view_module": "@jupyter-widgets/base",
      "_view_module_version": "1.2.0",
      "_view_name": "LayoutView",
      "align_content": null,
      "align_items": null,
      "align_self": null,
      "border": null,
      "bottom": null,
      "display": null,
      "flex": null,
      "flex_flow": null,
      "grid_area": null,
      "grid_auto_columns": null,
      "grid_auto_flow": null,
      "grid_auto_rows": null,
      "grid_column": null,
      "grid_gap": null,
      "grid_row": null,
      "grid_template_areas": null,
      "grid_template_columns": null,
      "grid_template_rows": null,
      "height": null,
      "justify_content": null,
      "justify_items": null,
      "left": null,
      "margin": null,
      "max_height": null,
      "max_width": null,
      "min_height": null,
      "min_width": null,
      "object_fit": null,
      "object_position": null,
      "order": null,
      "overflow": null,
      "overflow_x": null,
      "overflow_y": null,
      "padding": null,
      "right": null,
      "top": null,
      "visibility": null,
      "width": null
     }
    },
    "ca4bfe347aa54e9f86dc9ee15f71b0df": {
     "model_module": "@jupyter-widgets/controls",
     "model_module_version": "1.5.0",
     "model_name": "DescriptionStyleModel",
     "state": {
      "_model_module": "@jupyter-widgets/controls",
      "_model_module_version": "1.5.0",
      "_model_name": "DescriptionStyleModel",
      "_view_count": null,
      "_view_module": "@jupyter-widgets/base",
      "_view_module_version": "1.2.0",
      "_view_name": "StyleView",
      "description_width": ""
     }
    },
    "d0f16faa5f9a461ba2fc2f7a52cd9d96": {
     "model_module": "@jupyter-widgets/controls",
     "model_module_version": "1.5.0",
     "model_name": "HTMLModel",
     "state": {
      "_dom_classes": [],
      "_model_module": "@jupyter-widgets/controls",
      "_model_module_version": "1.5.0",
      "_model_name": "HTMLModel",
      "_view_count": null,
      "_view_module": "@jupyter-widgets/controls",
      "_view_module_version": "1.5.0",
      "_view_name": "HTMLView",
      "description": "",
      "description_tooltip": null,
      "layout": "IPY_MODEL_016cd87f6ba24b8fbe53b78fa59ed388",
      "placeholder": "​",
      "style": "IPY_MODEL_ca4bfe347aa54e9f86dc9ee15f71b0df",
      "value": "100%"
     }
    },
    "d98ef2de45b44a418aaf365f8d4d05e8": {
     "model_module": "@jupyter-widgets/controls",
     "model_module_version": "1.5.0",
     "model_name": "DescriptionStyleModel",
     "state": {
      "_model_module": "@jupyter-widgets/controls",
      "_model_module_version": "1.5.0",
      "_model_name": "DescriptionStyleModel",
      "_view_count": null,
      "_view_module": "@jupyter-widgets/base",
      "_view_module_version": "1.2.0",
      "_view_name": "StyleView",
      "description_width": ""
     }
    },
    "e75722d8df874dd796d2d417eac76441": {
     "model_module": "@jupyter-widgets/controls",
     "model_module_version": "1.5.0",
     "model_name": "ProgressStyleModel",
     "state": {
      "_model_module": "@jupyter-widgets/controls",
      "_model_module_version": "1.5.0",
      "_model_name": "ProgressStyleModel",
      "_view_count": null,
      "_view_module": "@jupyter-widgets/base",
      "_view_module_version": "1.2.0",
      "_view_name": "StyleView",
      "bar_color": null,
      "description_width": ""
     }
    }
   }
  }
 },
 "nbformat": 4,
 "nbformat_minor": 0
}
